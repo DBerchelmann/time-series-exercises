{
 "cells": [
  {
   "cell_type": "code",
   "execution_count": 5,
   "metadata": {},
   "outputs": [],
   "source": [
    "# import libraries\n",
    "\n",
    "import pandas as pd\n",
    "import requests\n",
    "from datetime import timedelta, datetime\n",
    "import matplotlib.pyplot as plt\n",
    "import seaborn as sns\n",
    "\n",
    "#import data set\n",
    "\n",
    "from vega_datasets import data\n",
    "from io import StringIO\n",
    "from acquire import items_, stores_, sales_, merge_dataframes, pull_csv\n",
    "from prepare import prep_store, prep_csv, plot_variables"
   ]
  },
  {
   "cell_type": "markdown",
   "metadata": {},
   "source": [
    "### Convert date column to datetime format."
   ]
  },
  {
   "cell_type": "code",
   "execution_count": 6,
   "metadata": {},
   "outputs": [],
   "source": [
    "df = merge_dataframes()"
   ]
  },
  {
   "cell_type": "code",
   "execution_count": 7,
   "metadata": {},
   "outputs": [
    {
     "data": {
      "text/html": [
       "<div>\n",
       "<style scoped>\n",
       "    .dataframe tbody tr th:only-of-type {\n",
       "        vertical-align: middle;\n",
       "    }\n",
       "\n",
       "    .dataframe tbody tr th {\n",
       "        vertical-align: top;\n",
       "    }\n",
       "\n",
       "    .dataframe thead th {\n",
       "        text-align: right;\n",
       "    }\n",
       "</style>\n",
       "<table border=\"1\" class=\"dataframe\">\n",
       "  <thead>\n",
       "    <tr style=\"text-align: right;\">\n",
       "      <th></th>\n",
       "      <th>item_id</th>\n",
       "      <th>item_brand</th>\n",
       "      <th>item_name</th>\n",
       "      <th>item_price</th>\n",
       "      <th>sale_amount</th>\n",
       "      <th>sale_date</th>\n",
       "      <th>sale_id</th>\n",
       "      <th>item_upc12</th>\n",
       "      <th>item_upc14</th>\n",
       "      <th>store_address</th>\n",
       "      <th>store_city</th>\n",
       "      <th>store_state</th>\n",
       "      <th>store_zipcode</th>\n",
       "      <th>store_id</th>\n",
       "    </tr>\n",
       "  </thead>\n",
       "  <tbody>\n",
       "    <tr>\n",
       "      <th>0</th>\n",
       "      <td>1</td>\n",
       "      <td>Riceland</td>\n",
       "      <td>Riceland American Jazmine Rice</td>\n",
       "      <td>0.84</td>\n",
       "      <td>13.0</td>\n",
       "      <td>Tue, 01 Jan 2013 00:00:00 GMT</td>\n",
       "      <td>1</td>\n",
       "      <td>35200264013</td>\n",
       "      <td>35200264013</td>\n",
       "      <td>12125 Alamo Ranch Pkwy</td>\n",
       "      <td>San Antonio</td>\n",
       "      <td>TX</td>\n",
       "      <td>78253</td>\n",
       "      <td>1</td>\n",
       "    </tr>\n",
       "    <tr>\n",
       "      <th>1</th>\n",
       "      <td>1</td>\n",
       "      <td>Riceland</td>\n",
       "      <td>Riceland American Jazmine Rice</td>\n",
       "      <td>0.84</td>\n",
       "      <td>11.0</td>\n",
       "      <td>Wed, 02 Jan 2013 00:00:00 GMT</td>\n",
       "      <td>2</td>\n",
       "      <td>35200264013</td>\n",
       "      <td>35200264013</td>\n",
       "      <td>12125 Alamo Ranch Pkwy</td>\n",
       "      <td>San Antonio</td>\n",
       "      <td>TX</td>\n",
       "      <td>78253</td>\n",
       "      <td>1</td>\n",
       "    </tr>\n",
       "  </tbody>\n",
       "</table>\n",
       "</div>"
      ],
      "text/plain": [
       "   item_id item_brand                       item_name  item_price  \\\n",
       "0        1   Riceland  Riceland American Jazmine Rice        0.84   \n",
       "1        1   Riceland  Riceland American Jazmine Rice        0.84   \n",
       "\n",
       "   sale_amount                      sale_date  sale_id   item_upc12  \\\n",
       "0         13.0  Tue, 01 Jan 2013 00:00:00 GMT        1  35200264013   \n",
       "1         11.0  Wed, 02 Jan 2013 00:00:00 GMT        2  35200264013   \n",
       "\n",
       "    item_upc14           store_address   store_city store_state store_zipcode  \\\n",
       "0  35200264013  12125 Alamo Ranch Pkwy  San Antonio          TX         78253   \n",
       "1  35200264013  12125 Alamo Ranch Pkwy  San Antonio          TX         78253   \n",
       "\n",
       "   store_id  \n",
       "0         1  \n",
       "1         1  "
      ]
     },
     "execution_count": 7,
     "metadata": {},
     "output_type": "execute_result"
    }
   ],
   "source": [
    "df.head(2)"
   ]
  },
  {
   "cell_type": "code",
   "execution_count": 8,
   "metadata": {},
   "outputs": [],
   "source": [
    "df.sale_date = pd.to_datetime(df.sale_date)\n",
    "df = df.set_index('sale_date').sort_index()\n",
    "df.index = df.index.tz_localize(None)"
   ]
  },
  {
   "cell_type": "code",
   "execution_count": 9,
   "metadata": {},
   "outputs": [
    {
     "data": {
      "text/html": [
       "<div>\n",
       "<style scoped>\n",
       "    .dataframe tbody tr th:only-of-type {\n",
       "        vertical-align: middle;\n",
       "    }\n",
       "\n",
       "    .dataframe tbody tr th {\n",
       "        vertical-align: top;\n",
       "    }\n",
       "\n",
       "    .dataframe thead th {\n",
       "        text-align: right;\n",
       "    }\n",
       "</style>\n",
       "<table border=\"1\" class=\"dataframe\">\n",
       "  <thead>\n",
       "    <tr style=\"text-align: right;\">\n",
       "      <th></th>\n",
       "      <th>item_id</th>\n",
       "      <th>item_brand</th>\n",
       "      <th>item_name</th>\n",
       "      <th>item_price</th>\n",
       "      <th>sale_amount</th>\n",
       "      <th>sale_id</th>\n",
       "      <th>item_upc12</th>\n",
       "      <th>item_upc14</th>\n",
       "      <th>store_address</th>\n",
       "      <th>store_city</th>\n",
       "      <th>store_state</th>\n",
       "      <th>store_zipcode</th>\n",
       "      <th>store_id</th>\n",
       "    </tr>\n",
       "    <tr>\n",
       "      <th>sale_date</th>\n",
       "      <th></th>\n",
       "      <th></th>\n",
       "      <th></th>\n",
       "      <th></th>\n",
       "      <th></th>\n",
       "      <th></th>\n",
       "      <th></th>\n",
       "      <th></th>\n",
       "      <th></th>\n",
       "      <th></th>\n",
       "      <th></th>\n",
       "      <th></th>\n",
       "      <th></th>\n",
       "    </tr>\n",
       "  </thead>\n",
       "  <tbody>\n",
       "    <tr>\n",
       "      <th>2013-01-01</th>\n",
       "      <td>1</td>\n",
       "      <td>Riceland</td>\n",
       "      <td>Riceland American Jazmine Rice</td>\n",
       "      <td>0.84</td>\n",
       "      <td>13.0</td>\n",
       "      <td>1</td>\n",
       "      <td>35200264013</td>\n",
       "      <td>35200264013</td>\n",
       "      <td>12125 Alamo Ranch Pkwy</td>\n",
       "      <td>San Antonio</td>\n",
       "      <td>TX</td>\n",
       "      <td>78253</td>\n",
       "      <td>1</td>\n",
       "    </tr>\n",
       "    <tr>\n",
       "      <th>2013-01-01</th>\n",
       "      <td>17</td>\n",
       "      <td>Ducal</td>\n",
       "      <td>Ducal Refried Red Beans</td>\n",
       "      <td>1.16</td>\n",
       "      <td>26.0</td>\n",
       "      <td>295813</td>\n",
       "      <td>88313590791</td>\n",
       "      <td>88313590791</td>\n",
       "      <td>2118 Fredericksburg Rdj</td>\n",
       "      <td>San Antonio</td>\n",
       "      <td>TX</td>\n",
       "      <td>78201</td>\n",
       "      <td>3</td>\n",
       "    </tr>\n",
       "    <tr>\n",
       "      <th>2013-01-01</th>\n",
       "      <td>7</td>\n",
       "      <td>Twinings Of London</td>\n",
       "      <td>Twinings Of London Classics Lady Grey Tea - 20 Ct</td>\n",
       "      <td>9.64</td>\n",
       "      <td>32.0</td>\n",
       "      <td>125995</td>\n",
       "      <td>70177154004</td>\n",
       "      <td>70177154004</td>\n",
       "      <td>8503 NW Military Hwy</td>\n",
       "      <td>San Antonio</td>\n",
       "      <td>TX</td>\n",
       "      <td>78231</td>\n",
       "      <td>10</td>\n",
       "    </tr>\n",
       "    <tr>\n",
       "      <th>2013-01-01</th>\n",
       "      <td>18</td>\n",
       "      <td>Scotch</td>\n",
       "      <td>Scotch Removable Clear Mounting Squares - 35 Ct</td>\n",
       "      <td>4.39</td>\n",
       "      <td>45.0</td>\n",
       "      <td>314073</td>\n",
       "      <td>21200725340</td>\n",
       "      <td>21200725340</td>\n",
       "      <td>2118 Fredericksburg Rdj</td>\n",
       "      <td>San Antonio</td>\n",
       "      <td>TX</td>\n",
       "      <td>78201</td>\n",
       "      <td>3</td>\n",
       "    </tr>\n",
       "    <tr>\n",
       "      <th>2013-01-01</th>\n",
       "      <td>19</td>\n",
       "      <td>Careone</td>\n",
       "      <td>Careone Family Comb Set - 8 Ct</td>\n",
       "      <td>0.74</td>\n",
       "      <td>34.0</td>\n",
       "      <td>332333</td>\n",
       "      <td>41520035646</td>\n",
       "      <td>41520035646</td>\n",
       "      <td>2118 Fredericksburg Rdj</td>\n",
       "      <td>San Antonio</td>\n",
       "      <td>TX</td>\n",
       "      <td>78201</td>\n",
       "      <td>3</td>\n",
       "    </tr>\n",
       "  </tbody>\n",
       "</table>\n",
       "</div>"
      ],
      "text/plain": [
       "            item_id          item_brand  \\\n",
       "sale_date                                 \n",
       "2013-01-01        1            Riceland   \n",
       "2013-01-01       17               Ducal   \n",
       "2013-01-01        7  Twinings Of London   \n",
       "2013-01-01       18              Scotch   \n",
       "2013-01-01       19             Careone   \n",
       "\n",
       "                                                    item_name  item_price  \\\n",
       "sale_date                                                                   \n",
       "2013-01-01                     Riceland American Jazmine Rice        0.84   \n",
       "2013-01-01                            Ducal Refried Red Beans        1.16   \n",
       "2013-01-01  Twinings Of London Classics Lady Grey Tea - 20 Ct        9.64   \n",
       "2013-01-01    Scotch Removable Clear Mounting Squares - 35 Ct        4.39   \n",
       "2013-01-01                     Careone Family Comb Set - 8 Ct        0.74   \n",
       "\n",
       "            sale_amount  sale_id   item_upc12   item_upc14  \\\n",
       "sale_date                                                    \n",
       "2013-01-01         13.0        1  35200264013  35200264013   \n",
       "2013-01-01         26.0   295813  88313590791  88313590791   \n",
       "2013-01-01         32.0   125995  70177154004  70177154004   \n",
       "2013-01-01         45.0   314073  21200725340  21200725340   \n",
       "2013-01-01         34.0   332333  41520035646  41520035646   \n",
       "\n",
       "                      store_address   store_city store_state store_zipcode  \\\n",
       "sale_date                                                                    \n",
       "2013-01-01   12125 Alamo Ranch Pkwy  San Antonio          TX         78253   \n",
       "2013-01-01  2118 Fredericksburg Rdj  San Antonio          TX         78201   \n",
       "2013-01-01     8503 NW Military Hwy  San Antonio          TX         78231   \n",
       "2013-01-01  2118 Fredericksburg Rdj  San Antonio          TX         78201   \n",
       "2013-01-01  2118 Fredericksburg Rdj  San Antonio          TX         78201   \n",
       "\n",
       "            store_id  \n",
       "sale_date             \n",
       "2013-01-01         1  \n",
       "2013-01-01         3  \n",
       "2013-01-01        10  \n",
       "2013-01-01         3  \n",
       "2013-01-01         3  "
      ]
     },
     "execution_count": 9,
     "metadata": {},
     "output_type": "execute_result"
    }
   ],
   "source": [
    "df.head()"
   ]
  },
  {
   "cell_type": "markdown",
   "metadata": {},
   "source": [
    "### Plot the distribution of sale_amount and item_price."
   ]
  },
  {
   "cell_type": "code",
   "execution_count": 10,
   "metadata": {},
   "outputs": [
    {
     "data": {
      "image/png": "[encoded data removed]",
      "text/plain": [
       "<Figure size 432x288 with 1 Axes>"
      ]
     },
     "metadata": {
      "needs_background": "light"
     },
     "output_type": "display_data"
    }
   ],
   "source": [
    "df['sale_amount'].hist()\n",
    "plt.title('Distribution of Sale Amount')\n",
    "plt.show()"
   ]
  },
  {
   "cell_type": "code",
   "execution_count": 11,
   "metadata": {},
   "outputs": [
    {
     "data": {
      "image/png": "[encoded data removed]",
      "text/plain": [
       "<Figure size 432x288 with 1 Axes>"
      ]
     },
     "metadata": {
      "needs_background": "light"
     },
     "output_type": "display_data"
    }
   ],
   "source": [
    "df['item_price'].hist()\n",
    "plt.title('Distribution of Item Price')\n",
    "plt.show()"
   ]
  },
  {
   "cell_type": "markdown",
   "metadata": {},
   "source": [
    "### Set the index to be the datetime variable."
   ]
  },
  {
   "cell_type": "markdown",
   "metadata": {},
   "source": [
    "already completed in question 1"
   ]
  },
  {
   "cell_type": "markdown",
   "metadata": {},
   "source": [
    "-----\n",
    "\n",
    "### Add a 'month' and 'day of week' column to your dataframe."
   ]
  },
  {
   "cell_type": "code",
   "execution_count": 12,
   "metadata": {},
   "outputs": [],
   "source": [
    "df['day'] = df.index.day_name()"
   ]
  },
  {
   "cell_type": "code",
   "execution_count": 13,
   "metadata": {},
   "outputs": [],
   "source": [
    "df['month'] = df.index.month_name()"
   ]
  },
  {
   "cell_type": "code",
   "execution_count": 14,
   "metadata": {},
   "outputs": [
    {
     "data": {
      "text/html": [
       "<div>\n",
       "<style scoped>\n",
       "    .dataframe tbody tr th:only-of-type {\n",
       "        vertical-align: middle;\n",
       "    }\n",
       "\n",
       "    .dataframe tbody tr th {\n",
       "        vertical-align: top;\n",
       "    }\n",
       "\n",
       "    .dataframe thead th {\n",
       "        text-align: right;\n",
       "    }\n",
       "</style>\n",
       "<table border=\"1\" class=\"dataframe\">\n",
       "  <thead>\n",
       "    <tr style=\"text-align: right;\">\n",
       "      <th></th>\n",
       "      <th>item_id</th>\n",
       "      <th>item_brand</th>\n",
       "      <th>item_name</th>\n",
       "      <th>item_price</th>\n",
       "      <th>sale_amount</th>\n",
       "      <th>sale_id</th>\n",
       "      <th>item_upc12</th>\n",
       "      <th>item_upc14</th>\n",
       "      <th>store_address</th>\n",
       "      <th>store_city</th>\n",
       "      <th>store_state</th>\n",
       "      <th>store_zipcode</th>\n",
       "      <th>store_id</th>\n",
       "      <th>day</th>\n",
       "      <th>month</th>\n",
       "    </tr>\n",
       "    <tr>\n",
       "      <th>sale_date</th>\n",
       "      <th></th>\n",
       "      <th></th>\n",
       "      <th></th>\n",
       "      <th></th>\n",
       "      <th></th>\n",
       "      <th></th>\n",
       "      <th></th>\n",
       "      <th></th>\n",
       "      <th></th>\n",
       "      <th></th>\n",
       "      <th></th>\n",
       "      <th></th>\n",
       "      <th></th>\n",
       "      <th></th>\n",
       "      <th></th>\n",
       "    </tr>\n",
       "  </thead>\n",
       "  <tbody>\n",
       "    <tr>\n",
       "      <th>2013-01-01</th>\n",
       "      <td>1</td>\n",
       "      <td>Riceland</td>\n",
       "      <td>Riceland American Jazmine Rice</td>\n",
       "      <td>0.84</td>\n",
       "      <td>13.0</td>\n",
       "      <td>1</td>\n",
       "      <td>35200264013</td>\n",
       "      <td>35200264013</td>\n",
       "      <td>12125 Alamo Ranch Pkwy</td>\n",
       "      <td>San Antonio</td>\n",
       "      <td>TX</td>\n",
       "      <td>78253</td>\n",
       "      <td>1</td>\n",
       "      <td>Tuesday</td>\n",
       "      <td>January</td>\n",
       "    </tr>\n",
       "  </tbody>\n",
       "</table>\n",
       "</div>"
      ],
      "text/plain": [
       "            item_id item_brand                       item_name  item_price  \\\n",
       "sale_date                                                                    \n",
       "2013-01-01        1   Riceland  Riceland American Jazmine Rice        0.84   \n",
       "\n",
       "            sale_amount  sale_id   item_upc12   item_upc14  \\\n",
       "sale_date                                                    \n",
       "2013-01-01         13.0        1  35200264013  35200264013   \n",
       "\n",
       "                     store_address   store_city store_state store_zipcode  \\\n",
       "sale_date                                                                   \n",
       "2013-01-01  12125 Alamo Ranch Pkwy  San Antonio          TX         78253   \n",
       "\n",
       "            store_id      day    month  \n",
       "sale_date                               \n",
       "2013-01-01         1  Tuesday  January  "
      ]
     },
     "execution_count": 14,
     "metadata": {},
     "output_type": "execute_result"
    }
   ],
   "source": [
    "df.head(1)"
   ]
  },
  {
   "cell_type": "markdown",
   "metadata": {},
   "source": [
    "### Add a column to your dataframe, sales_total, which is a derived from sale_amount (total items) and item_price."
   ]
  },
  {
   "cell_type": "code",
   "execution_count": 15,
   "metadata": {},
   "outputs": [],
   "source": [
    "df['sales_total'] = df.item_price * df.sale_amount"
   ]
  },
  {
   "cell_type": "code",
   "execution_count": 16,
   "metadata": {},
   "outputs": [
    {
     "data": {
      "text/html": [
       "<div>\n",
       "<style scoped>\n",
       "    .dataframe tbody tr th:only-of-type {\n",
       "        vertical-align: middle;\n",
       "    }\n",
       "\n",
       "    .dataframe tbody tr th {\n",
       "        vertical-align: top;\n",
       "    }\n",
       "\n",
       "    .dataframe thead th {\n",
       "        text-align: right;\n",
       "    }\n",
       "</style>\n",
       "<table border=\"1\" class=\"dataframe\">\n",
       "  <thead>\n",
       "    <tr style=\"text-align: right;\">\n",
       "      <th></th>\n",
       "      <th>item_id</th>\n",
       "      <th>item_brand</th>\n",
       "      <th>item_name</th>\n",
       "      <th>item_price</th>\n",
       "      <th>sale_amount</th>\n",
       "      <th>sale_id</th>\n",
       "      <th>item_upc12</th>\n",
       "      <th>item_upc14</th>\n",
       "      <th>store_address</th>\n",
       "      <th>store_city</th>\n",
       "      <th>store_state</th>\n",
       "      <th>store_zipcode</th>\n",
       "      <th>store_id</th>\n",
       "      <th>day</th>\n",
       "      <th>month</th>\n",
       "      <th>sales_total</th>\n",
       "    </tr>\n",
       "    <tr>\n",
       "      <th>sale_date</th>\n",
       "      <th></th>\n",
       "      <th></th>\n",
       "      <th></th>\n",
       "      <th></th>\n",
       "      <th></th>\n",
       "      <th></th>\n",
       "      <th></th>\n",
       "      <th></th>\n",
       "      <th></th>\n",
       "      <th></th>\n",
       "      <th></th>\n",
       "      <th></th>\n",
       "      <th></th>\n",
       "      <th></th>\n",
       "      <th></th>\n",
       "      <th></th>\n",
       "    </tr>\n",
       "  </thead>\n",
       "  <tbody>\n",
       "    <tr>\n",
       "      <th>2013-01-01</th>\n",
       "      <td>1</td>\n",
       "      <td>Riceland</td>\n",
       "      <td>Riceland American Jazmine Rice</td>\n",
       "      <td>0.84</td>\n",
       "      <td>13.0</td>\n",
       "      <td>1</td>\n",
       "      <td>35200264013</td>\n",
       "      <td>35200264013</td>\n",
       "      <td>12125 Alamo Ranch Pkwy</td>\n",
       "      <td>San Antonio</td>\n",
       "      <td>TX</td>\n",
       "      <td>78253</td>\n",
       "      <td>1</td>\n",
       "      <td>Tuesday</td>\n",
       "      <td>January</td>\n",
       "      <td>10.92</td>\n",
       "    </tr>\n",
       "  </tbody>\n",
       "</table>\n",
       "</div>"
      ],
      "text/plain": [
       "            item_id item_brand                       item_name  item_price  \\\n",
       "sale_date                                                                    \n",
       "2013-01-01        1   Riceland  Riceland American Jazmine Rice        0.84   \n",
       "\n",
       "            sale_amount  sale_id   item_upc12   item_upc14  \\\n",
       "sale_date                                                    \n",
       "2013-01-01         13.0        1  35200264013  35200264013   \n",
       "\n",
       "                     store_address   store_city store_state store_zipcode  \\\n",
       "sale_date                                                                   \n",
       "2013-01-01  12125 Alamo Ranch Pkwy  San Antonio          TX         78253   \n",
       "\n",
       "            store_id      day    month  sales_total  \n",
       "sale_date                                            \n",
       "2013-01-01         1  Tuesday  January        10.92  "
      ]
     },
     "execution_count": 16,
     "metadata": {},
     "output_type": "execute_result"
    }
   ],
   "source": [
    "df.head(1)"
   ]
  },
  {
   "cell_type": "markdown",
   "metadata": {},
   "source": [
    "-------------"
   ]
  },
  {
   "cell_type": "markdown",
   "metadata": {},
   "source": [
    "### Import German CSV & Prep"
   ]
  },
  {
   "cell_type": "code",
   "execution_count": 2,
   "metadata": {},
   "outputs": [],
   "source": [
    "df = prep_csv()"
   ]
  },
  {
   "cell_type": "code",
   "execution_count": 3,
   "metadata": {},
   "outputs": [
    {
     "data": {
      "text/html": [
       "<div>\n",
       "<style scoped>\n",
       "    .dataframe tbody tr th:only-of-type {\n",
       "        vertical-align: middle;\n",
       "    }\n",
       "\n",
       "    .dataframe tbody tr th {\n",
       "        vertical-align: top;\n",
       "    }\n",
       "\n",
       "    .dataframe thead th {\n",
       "        text-align: right;\n",
       "    }\n",
       "</style>\n",
       "<table border=\"1\" class=\"dataframe\">\n",
       "  <thead>\n",
       "    <tr style=\"text-align: right;\">\n",
       "      <th></th>\n",
       "      <th>Consumption</th>\n",
       "      <th>Wind</th>\n",
       "      <th>Solar</th>\n",
       "      <th>Wind+Solar</th>\n",
       "      <th>month</th>\n",
       "      <th>year</th>\n",
       "    </tr>\n",
       "    <tr>\n",
       "      <th>Date</th>\n",
       "      <th></th>\n",
       "      <th></th>\n",
       "      <th></th>\n",
       "      <th></th>\n",
       "      <th></th>\n",
       "      <th></th>\n",
       "    </tr>\n",
       "  </thead>\n",
       "  <tbody>\n",
       "    <tr>\n",
       "      <th>2006-01-01</th>\n",
       "      <td>1069.184</td>\n",
       "      <td>0.0</td>\n",
       "      <td>0.0</td>\n",
       "      <td>0.0</td>\n",
       "      <td>January</td>\n",
       "      <td>2006</td>\n",
       "    </tr>\n",
       "    <tr>\n",
       "      <th>2006-01-02</th>\n",
       "      <td>1380.521</td>\n",
       "      <td>0.0</td>\n",
       "      <td>0.0</td>\n",
       "      <td>0.0</td>\n",
       "      <td>January</td>\n",
       "      <td>2006</td>\n",
       "    </tr>\n",
       "    <tr>\n",
       "      <th>2006-01-03</th>\n",
       "      <td>1442.533</td>\n",
       "      <td>0.0</td>\n",
       "      <td>0.0</td>\n",
       "      <td>0.0</td>\n",
       "      <td>January</td>\n",
       "      <td>2006</td>\n",
       "    </tr>\n",
       "    <tr>\n",
       "      <th>2006-01-04</th>\n",
       "      <td>1457.217</td>\n",
       "      <td>0.0</td>\n",
       "      <td>0.0</td>\n",
       "      <td>0.0</td>\n",
       "      <td>January</td>\n",
       "      <td>2006</td>\n",
       "    </tr>\n",
       "    <tr>\n",
       "      <th>2006-01-05</th>\n",
       "      <td>1477.131</td>\n",
       "      <td>0.0</td>\n",
       "      <td>0.0</td>\n",
       "      <td>0.0</td>\n",
       "      <td>January</td>\n",
       "      <td>2006</td>\n",
       "    </tr>\n",
       "  </tbody>\n",
       "</table>\n",
       "</div>"
      ],
      "text/plain": [
       "            Consumption  Wind  Solar  Wind+Solar    month  year\n",
       "Date                                                           \n",
       "2006-01-01     1069.184   0.0    0.0         0.0  January  2006\n",
       "2006-01-02     1380.521   0.0    0.0         0.0  January  2006\n",
       "2006-01-03     1442.533   0.0    0.0         0.0  January  2006\n",
       "2006-01-04     1457.217   0.0    0.0         0.0  January  2006\n",
       "2006-01-05     1477.131   0.0    0.0         0.0  January  2006"
      ]
     },
     "execution_count": 3,
     "metadata": {},
     "output_type": "execute_result"
    }
   ],
   "source": [
    "df.head()"
   ]
  },
  {
   "cell_type": "code",
   "execution_count": 4,
   "metadata": {},
   "outputs": [
    {
     "name": "stderr",
     "output_type": "stream",
     "text": [
      "/Users/davidberchelmann/codeup-data-science/time-series-exercises/prepare.py:48: UserWarning: To output multiple subplots, the figure containing the passed axes is being cleared\n",
      "  df.hist(ax = ax, bins = 8)\n"
     ]
    },
    {
     "data": {
      "image/png": "[encoded data removed]",
      "text/plain": [
       "<Figure size 864x576 with 6 Axes>"
      ]
     },
     "metadata": {
      "needs_background": "light"
     },
     "output_type": "display_data"
    }
   ],
   "source": [
    "plot_variables()"
   ]
  },
  {
   "cell_type": "code",
   "execution_count": null,
   "metadata": {},
   "outputs": [],
   "source": []
  },
  {
   "cell_type": "code",
   "execution_count": null,
   "metadata": {},
   "outputs": [],
   "source": []
  }
 ],
 "metadata": {
  "kernelspec": {
   "display_name": "Python 3",
   "language": "python",
   "name": "python3"
  },
  "language_info": {
   "codemirror_mode": {
    "name": "ipython",
    "version": 3
   },
   "file_extension": ".py",
   "mimetype": "text/x-python",
   "name": "python",
   "nbconvert_exporter": "python",
   "pygments_lexer": "ipython3",
   "version": "3.8.5"
  }
 },
 "nbformat": 4,
 "nbformat_minor": 4
}
